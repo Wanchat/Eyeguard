{
 "cells": [
  {
   "cell_type": "markdown",
   "metadata": {},
   "source": [
    "<div style=\"\n",
    "border: 1px solid black;\n",
    "    background-color: lightblue;\n",
    "    padding-top: 50px;\n",
    "    padding-right: 30px;\n",
    "    padding-bottom: 50px;\n",
    "    padding-left: 80px;\n",
    ">\n",
    "<br>\n",
    "<h1 style=\"color:#0099cc; font-family: kanit\">\n",
    "<div style=\"font-size: 150%\">การคำนวณหาค่ามุมองศา</div>\n",
    "<div> (Estimate of Angle Gaze)</div>\n",
    "</h1>\n",
    "</div>\n",
    "<br>\n",
    "<hr>"
   ]
  },
  {
   "cell_type": "code",
   "execution_count": 3,
   "metadata": {},
   "outputs": [],
   "source": [
    "import numpy as np\n",
    "import math\n",
    "import matplotlib.pyplot as plt"
   ]
  },
  {
   "cell_type": "markdown",
   "metadata": {},
   "source": [
    "##### คำนวณองศา จาก y = 1 ซม x = 100 ซม"
   ]
  },
  {
   "cell_type": "code",
   "execution_count": 4,
   "metadata": {},
   "outputs": [
    {
     "data": {
      "text/plain": [
       "0.5729386976834859"
      ]
     },
     "execution_count": 4,
     "metadata": {},
     "output_type": "execute_result"
    }
   ],
   "source": [
    "angle_cm = math.atan2(1,100) * 180/math.pi #คำนวณองศา จาก y = 1 ซม x = 100 ซม\n",
    "angle_cm"
   ]
  },
  {
   "cell_type": "markdown",
   "metadata": {},
   "source": [
    "##### คำนวณองศาที่มองเห็นจากมุมกล้อง\n",
    "##### ด้วยการเเปรียบเทียบกับความสูงของวัตถุในระยะ 100 ซม\n",
    "##### ซึ่งความสูงที่มองเห็นในระยะนี้เท่ากับ  23.64 ซม มีองศาในมุมมองของกล้องเท่ากับ 13.544270813237608"
   ]
  },
  {
   "cell_type": "code",
   "execution_count": 5,
   "metadata": {},
   "outputs": [
    {
     "data": {
      "text/plain": [
       "13.544270813237608"
      ]
     },
     "execution_count": 5,
     "metadata": {},
     "output_type": "execute_result"
    }
   ],
   "source": [
    "angle_full = angle_cm * 23.64 \n",
    "angle_full"
   ]
  },
  {
   "cell_type": "markdown",
   "metadata": {},
   "source": [
    "##### แปลงค่าพิกเซลเป็นมุม  โดย 1 พิกเซล เท่ากับ 0.05643446172182336 องศา"
   ]
  },
  {
   "cell_type": "code",
   "execution_count": 6,
   "metadata": {},
   "outputs": [
    {
     "data": {
      "text/plain": [
       "0.05643446172182336"
      ]
     },
     "execution_count": 6,
     "metadata": {},
     "output_type": "execute_result"
    }
   ],
   "source": [
    "px_a_degree = angle_full/240\n",
    "px_a_degree"
   ]
  },
  {
   "cell_type": "code",
   "execution_count": 7,
   "metadata": {},
   "outputs": [
    {
     "data": {
      "text/plain": [
       "13.544270813237608"
      ]
     },
     "execution_count": 7,
     "metadata": {},
     "output_type": "execute_result"
    }
   ],
   "source": [
    "px_a_degree * 240 "
   ]
  },
  {
   "cell_type": "markdown",
   "metadata": {},
   "source": [
    "<hr>\n",
    "<h1 style=\"color:red; font-family: kanit\">ฟังก์ชั่นในการแปลงพิกเซลเป็นมุมองศา</h1>\n",
    "<br>\n",
    "* **angle** = มุมองศา <br>\n",
    "* **pixelDetection** = ค่าพิกเซลที่ตรวจหาได้ <br>\n",
    "* **anglefromtan** = ค่าที่ได้จาการคำนวณองศาจาก ความสูง 1 ซม. และ 100 ซม.<br>\n",
    "* **highCM** = มุมองศาที่มองเห็นได้จากกล้อง <br>\n",
    "* **pixelcamera** = พิกเซลที่มองเห็นได้จากมุมกล้อง\n",
    "<br>\n",
    "<br>\n",
    "\\begin{equation*}  \n",
    "\\ angle = pixelDetection(\\frac{anglefromtan(highCM)}{pixelcamera})\n",
    "\\end{equation*}\n",
    "<br>\n",
    "<br>\n",
    "<hr>"
   ]
  },
  {
   "cell_type": "markdown",
   "metadata": {},
   "source": [
    "This <span style=\"color:red\">word</span> is not black."
   ]
  },
  {
   "cell_type": "code",
   "execution_count": 1,
   "metadata": {},
   "outputs": [],
   "source": [
    "def px_to_degree(degree):\n",
    "    return px_a_degree * degree "
   ]
  },
  {
   "cell_type": "code",
   "execution_count": 14,
   "metadata": {},
   "outputs": [
    {
     "name": "stdout",
     "output_type": "stream",
     "text": [
      "6.772135406618804\n"
     ]
    }
   ],
   "source": [
    "print(px_to_degree(120))"
   ]
  }
 ],
 "metadata": {
  "kernelspec": {
   "display_name": "Python 3",
   "language": "python",
   "name": "python3"
  },
  "language_info": {
   "codemirror_mode": {
    "name": "ipython",
    "version": 3
   },
   "file_extension": ".py",
   "mimetype": "text/x-python",
   "name": "python",
   "nbconvert_exporter": "python",
   "pygments_lexer": "ipython3",
   "version": "3.6.5"
  }
 },
 "nbformat": 4,
 "nbformat_minor": 2
}
