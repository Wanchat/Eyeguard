{
 "cells": [
  {
   "cell_type": "markdown",
   "metadata": {},
   "source": [
    "<hr>\n",
    "# การคำนวณหาระยะห่าง\n",
    "<br>\n",
    "<hr>"
   ]
  },
  {
   "cell_type": "code",
   "execution_count": 88,
   "metadata": {},
   "outputs": [],
   "source": [
    "import numpy as np\n",
    "import matplotlib.pyplot as plt"
   ]
  },
  {
   "cell_type": "markdown",
   "metadata": {},
   "source": [
    "### ความสูงที่กล้องมองเห็น จากระยะ 20-100 ซม.\n",
    "* #### ระยะ 20 ซม. เท่ากับ 6 ซม. (front_cm)\n",
    "* #### ระยะ 100 ซม. เท่ากับ 23.64 ซม. (back_cm)"
   ]
  },
  {
   "cell_type": "code",
   "execution_count": 91,
   "metadata": {},
   "outputs": [
    {
     "data": {
      "text/plain": [
       "0.25380710659898476"
      ]
     },
     "execution_count": 91,
     "metadata": {},
     "output_type": "execute_result"
    }
   ],
   "source": [
    "front_cm = 6\n",
    "back_cm = 23.64\n",
    "camera_watch = front_cm / back_cm\n",
    "camera_watch"
   ]
  },
  {
   "cell_type": "markdown",
   "metadata": {},
   "source": [
    "### อัตราส่วนของพิเซลต่อความสูงที่กล้องมองเห็น\n",
    "* #### px_fullsize (ความสูงของพิกเซลที่กล้องมองเห็น)\n",
    "    * พิกเซลที่กล้องมองเห็นเท่ากับ 240 px"
   ]
  },
  {
   "cell_type": "code",
   "execution_count": 92,
   "metadata": {},
   "outputs": [
    {
     "data": {
      "text/plain": [
       "0.25380710659898476"
      ]
     },
     "execution_count": 92,
     "metadata": {},
     "output_type": "execute_result"
    }
   ],
   "source": [
    "px_fullsize = 240\n",
    "px_camera = px_fullsize * camera_watch / px_fullsize\n",
    "px_camera"
   ]
  },
  {
   "cell_type": "markdown",
   "metadata": {},
   "source": [
    "### ฟังก์ชั่นเข้า scale (ย่อขนาด)\n",
    "* #### px_point (ค่าพิกเซลที่ตรวจหาได้)"
   ]
  },
  {
   "cell_type": "code",
   "execution_count": 93,
   "metadata": {},
   "outputs": [
    {
     "data": {
      "text/plain": [
       "6.0"
      ]
     },
     "execution_count": 93,
     "metadata": {},
     "output_type": "execute_result"
    }
   ],
   "source": [
    "def px_camera_scale(px_point):\n",
    "    return ((px_point * camera_watch) / px_fullsize) * back_cm\n",
    "   \n",
    "px_camera_scale(240)"
   ]
  },
  {
   "cell_type": "markdown",
   "metadata": {},
   "source": [
    "### ฟังก์ชั่นแปลงพิกเซลที่ย่อขนาดแล้วให้เป็นเซนติเมตร\n",
    "* #### px_cm (ค่าพิกเซลที่ย่อแล้ว)"
   ]
  },
  {
   "cell_type": "code",
   "execution_count": 94,
   "metadata": {},
   "outputs": [
    {
     "data": {
      "text/plain": [
       "23.64"
      ]
     },
     "execution_count": 94,
     "metadata": {},
     "output_type": "execute_result"
    }
   ],
   "source": [
    "def px_cm(px_cm):\n",
    "    return px_cm * (back_cm / front_cm) \n",
    "px_cm(6)"
   ]
  },
  {
   "cell_type": "markdown",
   "metadata": {},
   "source": [
    "### ช่วงของความสูงที่ย่อขนาดแล้ว ที่กล้องสามาถมองเห็นได้\n",
    "* #### front_cm : ระยะสูงที่กล้องมองเห็นได้ เท่ากับ 6\n",
    "* #### px_camera : โดยแบ่งเป็นช่วงละ 0.25380710659898476 (1 ซม.)"
   ]
  },
  {
   "cell_type": "code",
   "execution_count": 95,
   "metadata": {},
   "outputs": [
    {
     "data": {
      "text/plain": [
       "array([ 0.        ,  0.25380711,  0.50761421,  0.76142132,  1.01522843,\n",
       "        1.26903553,  1.52284264,  1.77664975,  2.03045685,  2.28426396,\n",
       "        2.53807107,  2.79187817,  3.04568528,  3.29949239,  3.55329949,\n",
       "        3.8071066 ,  4.06091371,  4.31472081,  4.56852792,  4.82233503,\n",
       "        5.07614213,  5.32994924,  5.58375635,  5.83756345])"
      ]
     },
     "execution_count": 95,
     "metadata": {},
     "output_type": "execute_result"
    }
   ],
   "source": [
    "preriod_cm_carema = np.arange(0, 6, px_camera)\n",
    "preriod_cm_carema"
   ]
  }
 ],
 "metadata": {
  "kernelspec": {
   "display_name": "Python 3",
   "language": "python",
   "name": "python3"
  },
  "language_info": {
   "codemirror_mode": {
    "name": "ipython",
    "version": 3
   },
   "file_extension": ".py",
   "mimetype": "text/x-python",
   "name": "python",
   "nbconvert_exporter": "python",
   "pygments_lexer": "ipython3",
   "version": "3.6.3"
  }
 },
 "nbformat": 4,
 "nbformat_minor": 2
}
