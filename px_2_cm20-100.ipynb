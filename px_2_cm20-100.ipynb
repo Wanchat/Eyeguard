{
 "cells": [
  {
   "cell_type": "code",
   "execution_count": 47,
   "metadata": {},
   "outputs": [],
   "source": [
    "import numpy as np"
   ]
  },
  {
   "cell_type": "code",
   "execution_count": 48,
   "metadata": {},
   "outputs": [
    {
     "data": {
      "text/plain": [
       "0.25380710659898476"
      ]
     },
     "execution_count": 48,
     "metadata": {},
     "output_type": "execute_result"
    }
   ],
   "source": [
    "# cm\n",
    "cm_front= 6\n",
    "cm_end = 23.64\n",
    "cm_camera = (cm_front/cm_end) #เข้า scale หน้ากล้อง\n",
    "cm_camera"
   ]
  },
  {
   "cell_type": "code",
   "execution_count": 49,
   "metadata": {},
   "outputs": [
    {
     "data": {
      "text/plain": [
       "6.0"
      ]
     },
     "execution_count": 49,
     "metadata": {},
     "output_type": "execute_result"
    }
   ],
   "source": [
    "cm_camera_front = cm_camera * cm_end #ขนาดของหน้ากล้องในอัตรา 20-100 cm\n",
    "cm_camera_front"
   ]
  },
  {
   "cell_type": "code",
   "execution_count": 50,
   "metadata": {},
   "outputs": [
    {
     "data": {
      "text/plain": [
       "0.25380710659898476"
      ]
     },
     "execution_count": 50,
     "metadata": {},
     "output_type": "execute_result"
    }
   ],
   "source": [
    "# px\n",
    "px = 240\n",
    "px_camera = px *  cm_camera / px #px เข้า scale หน้ากล้อง (อัตราของกล้อง 20-100 เท่ากับ 1 cm)\n",
    "px_camera"
   ]
  },
  {
   "cell_type": "code",
   "execution_count": 51,
   "metadata": {},
   "outputs": [
    {
     "data": {
      "text/plain": [
       "6.0"
      ]
     },
     "execution_count": 51,
     "metadata": {},
     "output_type": "execute_result"
    }
   ],
   "source": [
    "px_camera_front = px_camera * cm_end \n",
    "px_camera_front"
   ]
  },
  {
   "cell_type": "code",
   "execution_count": 82,
   "metadata": {},
   "outputs": [
    {
     "data": {
      "text/plain": [
       "1.5"
      ]
     },
     "execution_count": 82,
     "metadata": {},
     "output_type": "execute_result"
    }
   ],
   "source": [
    "# ทดสอบ\n",
    "a = 60  # ขนาดพิกเซลสูงสุด \n",
    "px_camera_test = (a * px_camera / 240) * 23.64 # px เข้า scale หน้ากล้อง test *******\n",
    "px_camera_test  # ค่าที่ได้จากการเข้า scale"
   ]
  },
  {
   "cell_type": "code",
   "execution_count": 83,
   "metadata": {},
   "outputs": [
    {
     "data": {
      "text/plain": [
       "5.91"
      ]
     },
     "execution_count": 83,
     "metadata": {},
     "output_type": "execute_result"
    }
   ],
   "source": [
    "# ทดสอบ(ต่อ)\n",
    "cm_camera_test = px_camera_test * (cm_end / cm_front)  # แปลง px เป็น cm *******\n",
    "cm_camera_test   # ค่าที่ได้จากการแปลง px เป็น cm"
   ]
  },
  {
   "cell_type": "code",
   "execution_count": 78,
   "metadata": {},
   "outputs": [
    {
     "data": {
      "text/plain": [
       "6.0"
      ]
     },
     "execution_count": 78,
     "metadata": {},
     "output_type": "execute_result"
    }
   ],
   "source": [
    "cm_camera * cm_end"
   ]
  },
  {
   "cell_type": "code",
   "execution_count": 79,
   "metadata": {},
   "outputs": [
    {
     "data": {
      "text/plain": [
       "array([ 0.        ,  0.25380711,  0.50761421,  0.76142132,  1.01522843,\n",
       "        1.26903553,  1.52284264,  1.77664975,  2.03045685,  2.28426396,\n",
       "        2.53807107,  2.79187817,  3.04568528,  3.29949239,  3.55329949,\n",
       "        3.8071066 ,  4.06091371,  4.31472081,  4.56852792,  4.82233503,\n",
       "        5.07614213,  5.32994924,  5.58375635,  5.83756345])"
      ]
     },
     "execution_count": 79,
     "metadata": {},
     "output_type": "execute_result"
    }
   ],
   "source": [
    "preriod_cm_carema = np.arange(0, cm_front,  cm_camera) #  ช่วงของพิกเซลที่เข้าสเกล แบ่งเป็น 24 ช่วง\n",
    "preriod_cm_carema"
   ]
  },
  {
   "cell_type": "code",
   "execution_count": null,
   "metadata": {},
   "outputs": [],
   "source": []
  }
 ],
 "metadata": {
  "kernelspec": {
   "display_name": "Python 3",
   "language": "python",
   "name": "python3"
  },
  "language_info": {
   "codemirror_mode": {
    "name": "ipython",
    "version": 3
   },
   "file_extension": ".py",
   "mimetype": "text/x-python",
   "name": "python",
   "nbconvert_exporter": "python",
   "pygments_lexer": "ipython3",
   "version": "3.6.5"
  }
 },
 "nbformat": 4,
 "nbformat_minor": 2
}
