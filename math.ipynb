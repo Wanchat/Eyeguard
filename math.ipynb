{
 "cells": [
  {
   "cell_type": "code",
   "execution_count": 2,
   "metadata": {},
   "outputs": [],
   "source": [
    "import math\n",
    "import matplotlib.pyplot as plt\n",
    "import numpy as np"
   ]
  },
  {
   "cell_type": "markdown",
   "metadata": {},
   "source": [
    "### ฟังก์ชั่นหาค่า tan ของมุม"
   ]
  },
  {
   "cell_type": "code",
   "execution_count": 3,
   "metadata": {},
   "outputs": [],
   "source": [
    "def tanRounded(x):\n",
    "    Radiansx = math.radians(x)\n",
    "    tanx = math.tan(Radiansx) \n",
    "    tanRoundedx = round(tanx,4)\n",
    "    return tanRoundedx "
   ]
  },
  {
   "cell_type": "markdown",
   "metadata": {},
   "source": [
    "### องศามุมกล้อง"
   ]
  },
  {
   "cell_type": "code",
   "execution_count": 6,
   "metadata": {},
   "outputs": [
    {
     "data": {
      "text/plain": [
       "13.300543556680902"
      ]
     },
     "execution_count": 6,
     "metadata": {},
     "output_type": "execute_result"
    }
   ],
   "source": [
    "angle_cm = math.atan2(23.64,100) * 180/math.pi \n",
    "angle_cm"
   ]
  },
  {
   "cell_type": "code",
   "execution_count": 40,
   "metadata": {},
   "outputs": [
    {
     "data": {
      "image/png": "[encoded data removed]",
      "text/plain": [
       "<matplotlib.figure.Figure at 0x1c05a978a58>"
      ]
     },
     "metadata": {},
     "output_type": "display_data"
    }
   ],
   "source": [
    "plt.plot([5,25,25,5], [4,4,15,4],'or-'); plt.axis([0,30,0,17.5]); plt.text(26,9,r'O', fontsize=14); plt.text(15,2,r'A', fontsize=14); plt.text(8,4.55,r'x', fontsize=14); plt.text(23.5,13,r'y', fontsize=14); \n",
    "plt.text(14,10,r'H', fontsize=14);\n",
    "plt.show()"
   ]
  },
  {
   "cell_type": "markdown",
   "metadata": {},
   "source": [
    "\n",
    "#### การหาค่า A (ด้านประชิดมุม)\n",
    "* เมื่อวัตถุ O มีค่าตั้งฉากเท่ากับ 23.64 และทำมุม 13.300543556680902 องศา"
   ]
  },
  {
   "cell_type": "code",
   "execution_count": 44,
   "metadata": {},
   "outputs": [],
   "source": [
    "tan_x =  tanRounded(13.300543556680902)\n",
    "A = 100\n",
    "O = 23.64"
   ]
  },
  {
   "cell_type": "code",
   "execution_count": 45,
   "metadata": {},
   "outputs": [
    {
     "data": {
      "text/plain": [
       "100.0"
      ]
     },
     "execution_count": 45,
     "metadata": {},
     "output_type": "execute_result"
    }
   ],
   "source": [
    "distance_A = O / tan_x\n",
    "distance_A"
   ]
  },
  {
   "cell_type": "code",
   "execution_count": 46,
   "metadata": {},
   "outputs": [
    {
     "data": {
      "text/plain": [
       "23.64"
      ]
     },
     "execution_count": 46,
     "metadata": {},
     "output_type": "execute_result"
    }
   ],
   "source": [
    "distance_O = A * tan_x\n",
    "distance_O"
   ]
  },
  {
   "cell_type": "markdown",
   "metadata": {},
   "source": [
    "# ทดสอบการวัดค่าจากพิกเซล"
   ]
  },
  {
   "cell_type": "markdown",
   "metadata": {},
   "source": [
    "#### ระยะของการทำมุม เท่ากับ 13.300543556680902\n",
    "#### ความสูงของวัตถุ เท่ากับ 23.64"
   ]
  },
  {
   "cell_type": "code",
   "execution_count": 109,
   "metadata": {},
   "outputs": [
    {
     "data": {
      "text/plain": [
       "100.0"
      ]
     },
     "execution_count": 109,
     "metadata": {},
     "output_type": "execute_result"
    }
   ],
   "source": [
    "23.64 / tanRounded(13.300543556680902)"
   ]
  },
  {
   "cell_type": "markdown",
   "metadata": {},
   "source": [
    "### อัตราส่วนพิกเซลต่อเซนติเมตร\n",
    "* #### pixel_detection เท่ากับค่าพิกเซลที่ตรวจหาได้(point detection)\n",
    "* #### ความสูงที่กล้องมองเห็นได้ในระยะ 100 ซม. เท่ากับ 23.64\n",
    "* #### จำนวนพิกเซลจากมุมกล้อง เท่ากับ 240"
   ]
  },
  {
   "cell_type": "code",
   "execution_count": 115,
   "metadata": {},
   "outputs": [
    {
     "data": {
      "text/plain": [
       "10.152284263959391"
      ]
     },
     "execution_count": 115,
     "metadata": {},
     "output_type": "execute_result"
    }
   ],
   "source": [
    "pixel_detection = 240\n",
    "point_detection = pixel_detection / 23.64  #อัตราส่วนพิกเซลต่อเซนติเมตร\n",
    "point_detection"
   ]
  },
  {
   "cell_type": "markdown",
   "metadata": {},
   "source": [
    "### ฟังก์ชั่นการคำนวณจากค่าพิกเซลเป็นระยะเซนติเมตร การทำมุมเท่ากับ 13.300543556680902"
   ]
  },
  {
   "cell_type": "code",
   "execution_count": 116,
   "metadata": {},
   "outputs": [
    {
     "data": {
      "text/plain": [
       "5.0761421319796955"
      ]
     },
     "execution_count": 116,
     "metadata": {},
     "output_type": "execute_result"
    }
   ],
   "source": [
    "pixel_detection_now = 120 #พิกเซลที่ตรวจหาได้\n",
    "point_detection_now = pixel_detection_now / 23.64 #อัตราส่วนพิกเซลต่อเซนติเมตร\n",
    "point_detection_now"
   ]
  },
  {
   "cell_type": "code",
   "execution_count": 117,
   "metadata": {},
   "outputs": [
    {
     "data": {
      "text/plain": [
       "507.61421319796955"
      ]
     },
     "execution_count": 117,
     "metadata": {},
     "output_type": "execute_result"
    }
   ],
   "source": [
    "point_to_cm = 23.64 / tanRounded(13.300543556680902) * point_detection_now #ขอบเขตของระยะและมุมที่ตรวจหา ทำมุม = 13.300543556680902, ความสูงของวัตถุ = 23.64\n",
    "point_to_cm"
   ]
  },
  {
   "cell_type": "code",
   "execution_count": 118,
   "metadata": {},
   "outputs": [
    {
     "data": {
      "text/plain": [
       "50.0"
      ]
     },
     "execution_count": 118,
     "metadata": {},
     "output_type": "execute_result"
    }
   ],
   "source": [
    "cm_estimate = point_to_cm * 23.64 / 240 #ประมาณค่าพิกเซลจากกล้องเป็นระยะทางเซนติเมตร\n",
    "cm_estimate"
   ]
  },
  {
   "cell_type": "code",
   "execution_count": null,
   "metadata": {},
   "outputs": [],
   "source": []
  }
 ],
 "metadata": {
  "kernelspec": {
   "display_name": "Python 3",
   "language": "python",
   "name": "python3"
  },
  "language_info": {
   "codemirror_mode": {
    "name": "ipython",
    "version": 3
   },
   "file_extension": ".py",
   "mimetype": "text/x-python",
   "name": "python",
   "nbconvert_exporter": "python",
   "pygments_lexer": "ipython3",
   "version": "3.6.3"
  }
 },
 "nbformat": 4,
 "nbformat_minor": 2
}
